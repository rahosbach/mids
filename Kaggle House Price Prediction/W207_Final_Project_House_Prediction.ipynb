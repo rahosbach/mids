{
  "nbformat": 4,
  "nbformat_minor": 0,
  "metadata": {
    "colab": {
      "name": "W207 Final Project House Prediction.ipynb",
      "provenance": [],
      "collapsed_sections": [
        "KJMTl7NJ9xYc",
        "t9dL0_Rd8T78",
        "R48599IZOpWh",
        "hBEX0UEiZf5s",
        "ZZc43BFYZsvg",
        "DGGEDHR5qYax",
        "ZyDOm3OJrCUx",
        "ICJTOB5pO6L6",
        "Mgizid0fz6Ew",
        "GraTkZV5Jf8y",
        "WJISrM9CJdws",
        "vpzce0XEJv8N",
        "gYnpdfEcQ7sr",
        "1RH4uPlYREMx",
        "1RMkjiIYRK7l",
        "GXCvcuZD8ZRB",
        "zFrCTQjuSq4z",
        "Ki-XetuGSn9F",
        "oRdS1GoaJSI_",
        "lh8R4PtsbLn-"
      ],
      "toc_visible": true
    },
    "kernelspec": {
      "display_name": "Python 3",
      "name": "python3"
    },
    "language_info": {
      "name": "python"
    }
  },
  "cells": [
    {
      "cell_type": "markdown",
      "metadata": {
        "id": "KJMTl7NJ9xYc"
      },
      "source": [
        "## W207 Final Project - House Price Prediction\n",
        "\n",
        "In this project, we will participate in the Kaggle competition - House Price Prediction. This data has 79 features (43 categorical, 36 numeric). Each of these 79 variables specifies the quality and quantity of physical attributes of a house. The training dataset size: 1,460 observations and the test dataset size: 1,459 observations. Our goal is to predict the sale price of each home in Ames, Iowa, from 2006 to 2010 in the test dataset. \n",
        "\n",
        "by Robert Hosbach, Eric Liu, Aishah Newson, and Frankie Pun\n",
        "\n",
        "8/4/2021\n",
        "\n",
        "\n"
      ]
    },
    {
      "cell_type": "code",
      "metadata": {
        "id": "-3vlRbJrWVwV"
      },
      "source": [
        "# To install pandas-profiling package (if necessary)\n",
        "#! pip install https://github.com/pandas-profiling/pandas-profiling/archive/master.zip"
      ],
      "execution_count": null,
      "outputs": []
    },
    {
      "cell_type": "code",
      "metadata": {
        "id": "ret370NpTRrm"
      },
      "source": [
        "from datetime import datetime\n",
        "import pickle\n",
        "import time\n",
        "import warnings\n",
        "\n",
        "import matplotlib.pyplot as plt\n",
        "import numpy as np\n",
        "import pandas as pd\n",
        "import seaborn as sns\n",
        "\n",
        "from sklearn.compose import ColumnTransformer\n",
        "from sklearn.decomposition import PCA\n",
        "from sklearn.ensemble import RandomForestRegressor, GradientBoostingRegressor\n",
        "from sklearn.feature_selection import SelectFromModel\n",
        "from sklearn.impute import SimpleImputer\n",
        "from sklearn.linear_model import Lasso, RidgeCV, LassoCV, ElasticNetCV\n",
        "from sklearn.metrics import mean_squared_error \n",
        "from sklearn.model_selection import train_test_split, cross_val_score, GridSearchCV, KFold\n",
        "from sklearn.neighbors import KNeighborsRegressor\n",
        "from sklearn.pipeline import make_pipeline, Pipeline\n",
        "from sklearn.preprocessing import MinMaxScaler, OneHotEncoder, StandardScaler, RobustScaler\n",
        "from sklearn.svm import SVR\n",
        "\n",
        "from lightgbm import LGBMRegressor\n",
        "from mlxtend.regressor import StackingCVRegressor\n",
        "from xgboost import XGBRegressor\n",
        "\n",
        "from keras.callbacks import ModelCheckpoint\n",
        "from keras.layers import Dense, Activation, Flatten\n",
        "from keras.models import Sequential\n",
        "\n",
        "import tensorflow\n",
        "\n",
        "from pandas_profiling import ProfileReport\n",
        "# from google.colab import files\n",
        "\n",
        "warnings.filterwarnings('ignore')\n",
        "warnings.filterwarnings('ignore', category=DeprecationWarning)\n",
        "\n",
        "# comment out the following line will hide the graphs\n",
        "#%matplotlib inline"
      ],
      "execution_count": null,
      "outputs": []
    },
    {
      "cell_type": "markdown",
      "metadata": {
        "id": "t9dL0_Rd8T78"
      },
      "source": [
        "# Read Data"
      ]
    },
    {
      "cell_type": "code",
      "metadata": {
        "id": "pBGPFmEoTX03"
      },
      "source": [
        "# Read in the training and test data\n",
        "train = pd.read_csv(\"https://raw.githubusercontent.com/frankiepun/w207-kaggle/master/house-prices-advanced-regression-techniques/train.csv\")\n",
        "test = pd.read_csv(\"https://raw.githubusercontent.com/frankiepun/w207-kaggle/master/house-prices-advanced-regression-techniques/test.csv\")\n",
        "test_id = test[\"Id\"].copy() # keep a copy of test's ID column\n",
        "# Drop the ID column from training and test data\n",
        "train.drop(\"Id\", inplace=True, axis=1)\n",
        "test.drop(\"Id\", inplace=True, axis=1)\n",
        "Y = np.log(train['SalePrice']) # Log-transform SalePrice (error is calculated on log values)\n",
        "\n",
        "# set random seeds for reproducibility\n",
        "np.random.seed(0)\n",
        "tensorflow.random.set_seed(0)\n"
      ],
      "execution_count": null,
      "outputs": []
    },
    {
      "cell_type": "markdown",
      "metadata": {
        "id": "R48599IZOpWh"
      },
      "source": [
        "# Exploratory Data Analysis\n"
      ]
    },
    {
      "cell_type": "markdown",
      "metadata": {
        "id": "hBEX0UEiZf5s"
      },
      "source": [
        "##Data profile for all features\n",
        "\n",
        "To see the data distribution for each feature, please click on the link below. It has all the core statistics information such as the number of distinct values, number of missing values, minimum, maximum, number of zeros, number of negatives, and many more.\n",
        "\n",
        "[Data Profile for all features](https://htmlpreview.github.io/?https://raw.githubusercontent.com/frankiepun/w207-kaggle/master/kaggle%20house%20price%20prediction%20features%20profile.html)"
      ]
    },
    {
      "cell_type": "code",
      "metadata": {
        "id": "ax6fdnsWOvta"
      },
      "source": [
        "# Note that the following EDA profile takes over 2 minutes to generate\n",
        "def generate_features_profile():\n",
        "  \"\"\"Function to generate html files containing profiles of the\n",
        "  training and test data sets for EDA purposes.\"\"\"\n",
        "\n",
        "  # Create and save training profile to an html file\n",
        "  train_profile = ProfileReport(\n",
        "      train,\n",
        "      minimal=True,\n",
        "      title=\"Training Data Report\",\n",
        "      html={\"style\": {\"full_width\": True}})\n",
        "  train_profile.to_file(output_file=\"train_profile.html\")\n",
        "  #files.download(\"train_profile.html\")\n",
        "\n",
        "  # Create and save test profile to an html file\n",
        "  test_profile = ProfileReport(\n",
        "      test,\n",
        "      minimal=True,\n",
        "      title=\"Test Data Report\",\n",
        "      html={\"style\": {\"full_width\": True}})\n",
        "  test_profile.to_file(output_file=\"test_profile.html\")\n",
        "  #files.download(\"test_profile.html\")\n",
        "\n",
        "  # Create and save combined profile to an html file\n",
        "  combined_df = pd.concat([train, test], axis=0).reset_index(drop=True).copy()  # combined.shape=(2919, 80)\n",
        "  combined_profile = ProfileReport(\n",
        "      combined_df,\n",
        "      minimal=True,\n",
        "      title=\"Combined Test and Training Data Report\",\n",
        "      html={\"style\": {\"full_width\": True}})\n",
        "  combined_profile.to_file(output_file=\"combined_profile.html\")\n",
        "  #files.download(\"combined_profile.html\")\n",
        "\n",
        "#generate_features_profile()"
      ],
      "execution_count": null,
      "outputs": []
    },
    {
      "cell_type": "markdown",
      "metadata": {
        "id": "ZZc43BFYZsvg"
      },
      "source": [
        "## Data Distribution of SalePrice\n",
        "\n",
        "[Histograms of SalePrice](https://htmlpreview.github.io/?https://raw.githubusercontent.com/frankiepun/w207-kaggle/master/saleprice.html)\n"
      ]
    },
    {
      "cell_type": "code",
      "metadata": {
        "id": "i52ibAQRHbWf"
      },
      "source": [
        "# Looking at SalePrice variable\n",
        "# SalePrice data is right-skewed with a long tail. Applying Logarithm will make it more normal\n",
        "# To see the charts, click on the link above or comment out #%matplotlib inline\n",
        "def sale_price_distribution():\n",
        "  ''' this function plots histograms for SalePrice '''\n",
        "  fig, axs = plt.subplots(ncols=2) # Create figure and two subplots\n",
        "  fig.set_size_inches(12, 4) # Set figure size\n",
        "  sns.histplot(data=train, x='SalePrice', ax=axs[0]).set_title('SalePrice Histogram') # First histogram of SalePrice\n",
        "  axs[0].set_xlabel(\"SalePrice [$]\")\n",
        "  sns.histplot(Y, ax=axs[1]).set_title('Logarithm SalePrice Histogram') # Second histogram of ln(SalePrice)\n",
        "  axs[0].set_xlabel(\"Ln(SalePrice)\")\n",
        "\n",
        "sale_price_distribution()\n"
      ],
      "execution_count": null,
      "outputs": []
    },
    {
      "cell_type": "markdown",
      "metadata": {
        "id": "DGGEDHR5qYax"
      },
      "source": [
        "## Plot numerical features vs SalePrice\n",
        "\n",
        "[See the scatterplots of numerical features vs SalePrice](https://htmlpreview.github.io/?https://raw.githubusercontent.com/frankiepun/w207-kaggle/master/numerical.html)"
      ]
    },
    {
      "cell_type": "code",
      "metadata": {
        "id": "xzEwnE_ObUWh"
      },
      "source": [
        "# To see the charts, click on the link above or comment out #%matplotlib inline\n",
        "def numerical_vs_saleprice():\n",
        "  \"\"\"Function to plot scatterplots for all numerical features vs.\n",
        "  SalePrice.\"\"\"\n",
        "\n",
        "  # Get list of numerical features, excluding SalePrice\n",
        "  numerical_features = [feature for feature in train.columns if (train[feature].dtype != 'O') and\n",
        "                        (feature != 'SalePrice')]\n",
        "\n",
        "  fig, axs = plt.subplots(nrows=len(numerical_features)) # Create figure and subplots\n",
        "  fig.set_size_inches(10, 6*len(numerical_features)) # Set figure size\n",
        "  for i,feature_name in enumerate(numerical_features): # Iterate through features for plotting\n",
        "    sns.scatterplot(x=feature_name, y='SalePrice', data=train, ax=axs[i]) # Generate scatterplot\n",
        "    axs[i].title.set_text(f\"{feature_name} vs SalePrice\") # Set title for each subplot\n",
        "\n",
        " \n",
        "numerical_vs_saleprice()"
      ],
      "execution_count": null,
      "outputs": []
    },
    {
      "cell_type": "markdown",
      "metadata": {
        "id": "ZyDOm3OJrCUx"
      },
      "source": [
        "## Plot categorical features vs SalePrice\n",
        "\n",
        "[See the boxplots of categorical features vs SalePrice](https://htmlpreview.github.io/?https://raw.githubusercontent.com/frankiepun/w207-kaggle/master/categorical.html)"
      ]
    },
    {
      "cell_type": "code",
      "metadata": {
        "id": "yu8OrQ9Ftn3e"
      },
      "source": [
        "# To see the charts, click on the link above or comment out #%matplotlib inline\n",
        "def categorical_vs_saleprice():\n",
        "  '''Function to plot boxplots for all non-numeric features vs. SalePrice.'''\n",
        "\n",
        "  categorical_features = [feature for feature in train.columns if train[feature].dtype == 'O']\n",
        "  train_categorical = train[categorical_features]\n",
        "  train_categorical[\"SalePrice\"] = train[\"SalePrice\"]\n",
        "  train_categorical.fillna(\"NA\", inplace=True)\n",
        "\n",
        "  fig, axs = plt.subplots(nrows=len(categorical_features)) # Create figure and subplots\n",
        "  fig.set_size_inches(10, 6*len(categorical_features)) # Set figure size\n",
        "  for i,feature_name in enumerate(categorical_features): # Iterate through features for plotting\n",
        "    sns.boxplot(x=feature_name, y=\"SalePrice\", data=train_categorical, ax=axs[i]) # Generate boxplot\n",
        "    axs[i].set_xticklabels(axs[i].get_xticklabels(), rotation=90) # Rotate tick labels for easier viewing\n",
        "    axs[i].title.set_text(f\"{feature_name} vs SalePrice\") # Set title for each subplot\n",
        "\n",
        "    \n",
        "categorical_vs_saleprice()"
      ],
      "execution_count": null,
      "outputs": []
    },
    {
      "cell_type": "markdown",
      "metadata": {
        "id": "ICJTOB5pO6L6"
      },
      "source": [
        "# Handle Missing Values for Categorical and Numeric Variables\n",
        "\n",
        "It is easier to apply the same data processing to both train and test data. So we first combine them. "
      ]
    },
    {
      "cell_type": "code",
      "metadata": {
        "id": "vYVtw7wfO_L8"
      },
      "source": [
        "def combine_train_test():\n",
        "  \"\"\"Function to combine train and test data for further\n",
        "  data processing.\"\"\"\n",
        "\n",
        "  combined = pd.concat([train, test], axis=0).reset_index(drop=True).copy() # combined.shape=(2919, 80)\n",
        "\n",
        "  nan_column_list = combined.isnull().any() # Get list of columns that have missing values\n",
        "\n",
        "  #print(nan_column_list[nan_column_list].index.tolist())\n",
        "  #print(len(nan_column_list[nan_column_list].index.tolist()))\n",
        "  # The following features have missing values\n",
        "  # NaN columns = ['MSZoning', 'LotFrontage', 'Alley', 'Utilities', 'Exterior1st', 'Exterior2nd', 'MasVnrType', 'MasVnrArea',\n",
        "  # 'BsmtQual', 'BsmtCond', 'BsmtExposure', 'BsmtFinType1', 'BsmtFinSF1', 'BsmtFinType2', 'BsmtFinSF2', 'BsmtUnfSF', 'TotalBsmtSF',\n",
        "  # 'Electrical', 'BsmtFullBath', 'BsmtHalfBath', 'KitchenQual', 'Functional', 'FireplaceQu', 'GarageType', 'GarageYrBlt',\n",
        "  # 'GarageFinish', 'GarageCars', 'GarageArea', 'GarageQual', 'GarageCond', 'PoolQC', 'Fence', 'MiscFeature', 'SaleType', 'SalePrice']\n",
        "\n",
        "  # combined_nan = combined[combined.columns[nan_column_list]] # Create dataframe that with only columns having NaN values\n",
        "\n",
        "  # print(\"The nummber of NaN in each columns\")\n",
        "  # print(combined_nan.isnull().sum())\n",
        "\n",
        "  return combined\n",
        "\n",
        "# combining train and test. combined.shape=(2919, 68), No ID and SalePrice\n",
        "combined = combine_train_test()"
      ],
      "execution_count": null,
      "outputs": []
    },
    {
      "cell_type": "code",
      "metadata": {
        "id": "fduyBmazRfIl"
      },
      "source": [
        "def handle_nan(df):\n",
        "  \"\"\"Function to perform data imputation and other minor data transformations.\"\"\"\n",
        "\n",
        "  df = df.copy()\n",
        "\n",
        "  # Drop extraneous columns - they have low variance or a large number of NAs\n",
        "  # LotFrontage is a numeric column - There are 486 NaN. Drop the column\n",
        "  # Alley - Gravel/Paved alley access 90+% of the data is NaN. Drop the column\n",
        "  # Utilities - 99.9% of the data is AllPub. Data is not diverse. Drop the column\n",
        "  # MasVnrArea is a numeric column. Most of them are zero. There are 23 NAs. Drop the column\n",
        "  # GarageYrBlt - numeric value. There are 159 NaN. Drop this column\n",
        "  # PoolQC - over 99% is NA. Drop the column\n",
        "  # Fence - over 80% is NA. Drop the column\n",
        "  # MiscFeature - over 90% is NA. Drop the column\n",
        "  # LandSlope. 95% is Gtl. Drop the column\n",
        "  # Condition2. 99% is Norm. Drop the column\n",
        "  # RoofMatl. 98% is CompShg. Drop the column\n",
        "  # Heating. 98% is GasA. Drop the column\n",
        "  to_drop = [\"LotFrontage\", \"Alley\", \"Utilities\", \"MasVnrArea\", \"GarageYrBlt\", \"PoolQC\", \"Fence\", \n",
        "             \"MiscFeature\", 'LandSlope', 'Condition2', 'RoofMatl', 'Heating']\n",
        "  df.drop(columns=to_drop, inplace=True)\n",
        "\n",
        "  # Log-transform LotArea to make it normal\n",
        "  df[\"LotArea\"] = np.log(df[\"LotArea\"])\n",
        "\n",
        "  # Fill with specific values\n",
        "  # MasVnrType's NaN data distribution is similar to BrkFace (Brick Face). Set it to BrkFace\n",
        "  df[\"MasVnrType\"].fillna(\"BrkFace\", inplace=True)\n",
        "  # BsmtFullBath - keep the column. Data is diverse. Only 2 NA. Set it to 1 Bath\n",
        "  df[\"BsmtFullBath\"].fillna(1, inplace=True)\n",
        "\n",
        "  # Fill with \"Fa\" - NaN data distribution is similar to Fa or Fair\n",
        "  to_fa = [\"BsmtQual\", \"BsmtCond\", \"GarageQual\", \"GarageCond\", \"SaleType\"]\n",
        "\n",
        "  # Fill with \"My_NA\"\n",
        "  to_myna = [\"BsmtExposure\", \"BsmtFinType1\", \"BsmtFinType2\", \"FireplaceQu\", \"GarageType\", \"GarageFinish\"]\n",
        "\n",
        "  # Fill with 0 \n",
        "  # These four columns have only one observation with missing data in test data. That house is a small house.\n",
        "  to_zero = [\"BsmtFinSF1\", \"BsmtFinSF2\", \"BsmtUnfSF\", \"TotalBsmtSF\"]\n",
        "\n",
        "  # Fill with mode (the most frequent)\n",
        "  to_mode = [\"MSZoning\", \"Exterior1st\", \"Exterior2nd\", \"Electrical\", \"BsmtHalfBath\", \"KitchenQual\", \"Functional\", \"GarageCars\", \"Street\"]\n",
        "\n",
        "  # Fill with mean - Only one observation with NA. We will fill it with the mean of GarageArea\n",
        "  to_mean = [\"GarageArea\"]\n",
        "\n",
        "  # A ColumnTransformer takes in a list, which contains tuples of the transformations we wish to perform on the different columns. \n",
        "  # Each tuple expects 3 comma-separated values: \n",
        "  # first, the name of the transformer, which can be practically anything (passed as a string), \n",
        "  # second is the estimator object, and \n",
        "  # the final one being the columns upon which we wish to perform that operation.\n",
        "  # remainder=\"passthrough\" for retaining \"unused\" columns\n",
        "  processor = ColumnTransformer(\n",
        "      remainder = \"passthrough\",\n",
        "      transformers=[\n",
        "        (\"mode\", SimpleImputer(strategy=\"most_frequent\"), to_mode),\n",
        "        (\"mean\", SimpleImputer(strategy=\"mean\"), to_mean),\n",
        "        (\"fa\", SimpleImputer(strategy=\"constant\", fill_value=\"Fa\"), to_fa),\n",
        "        (\"myna\", SimpleImputer(strategy=\"constant\", fill_value=\"My_NA\"), to_myna),\n",
        "        (\"zero\", SimpleImputer(strategy=\"constant\", fill_value=0), to_zero)])\n",
        "\n",
        "  # Fit the ColumnTransformer and transform our original data frame\n",
        "  imputed = processor.fit_transform(df)\n",
        "\n",
        "  # Converts the resulting numpy array back to pandas \n",
        "  # The column order gets rearranged by ColumnTransformer; the following lines\n",
        "  # allow for getting back to the normal order (was used to verify ColumnTransformer worked as expected)\n",
        "  other_cols = list(df.columns)\n",
        "  for used in (to_mode + to_mean + to_fa + to_myna + to_zero):\n",
        "    # Remove all columns that were explicitly filled using the ColumnTransformer\n",
        "    other_cols.remove(used)\n",
        "  # Convert the np array back into a dataframe, with the correct column names\n",
        "  new_df = pd.DataFrame(imputed, columns=to_mode + to_mean + to_fa + to_myna + to_zero + other_cols)\n",
        "\n",
        "  # ColumnTransformer converts the type to object. This function infers the type properly\n",
        "  new_df = new_df.infer_objects()\n",
        "  return new_df  \n",
        "\n",
        "combined = handle_nan(combined)\n",
        "#print(\"The nummber of NaN in each columns\")\n",
        "#print(combined.isnull().sum().sort_values(ascending=False))"
      ],
      "execution_count": null,
      "outputs": []
    },
    {
      "cell_type": "markdown",
      "metadata": {
        "id": "-V_WMxRafRiO"
      },
      "source": [
        "The following columns are some special conditions\n",
        "\n",
        "There is data inconsistency between YearBuilt and YearRemodAdd. YearRemodelAdd is earlier than YearBuilt for one record; however, fixing the data actually hurts the performance and therefore, we decided to keep the column as is."
      ]
    },
    {
      "cell_type": "code",
      "metadata": {
        "id": "uzYRjNS3h16M"
      },
      "source": [
        "# data inconsistency in YearBuilt earlier than YearRemodAdd. However, we find that it doesn't help the\n",
        "# performance. So we decided not to correct it.\n",
        "\n",
        "def bad_year_built():\n",
        "  \"\"\"Function to add new columns for home age and years since a remodel occurred.\"\"\"\n",
        "\n",
        "  # Sanity checks on how YearBuilt compares to YearRemodAdd\n",
        "  same = (combined[\"YearBuilt\"] == combined[\"YearRemodAdd\"]).sum()\n",
        "  later = (combined[\"YearBuilt\"] < combined[\"YearRemodAdd\"]).sum()\n",
        "  earlier = (combined[\"YearBuilt\"] > combined[\"YearRemodAdd\"]).sum()\n",
        "  print(f\"                             Total rows = {combined.shape[0]}\")\n",
        "  print(f\"     Remodel year is same as built year = {same}\")\n",
        "  print(f\"  Remodel year is later than built year = {later}\")\n",
        "  print(f\"Remodel year is earlier than built year = {earlier}\")\n",
        "\n",
        "  # Correct mistaken remodel before built\n",
        "  for index, row in combined.iterrows():\n",
        "      if row['YearRemodAdd'] < row['YearBuilt']:\n",
        "          combined.at[index, 'YearRemodAdd'] = test.at[index, 'YearBuilt']\n",
        "  # Check if mistake still exists\n",
        "  for index, row in combined.iterrows():\n",
        "      if row['YearRemodAdd'] < row['YearBuilt']:\n",
        "          print(row['YearRemodAdd'])\n",
        "          print(row['YearBuilt'])\n",
        "\n",
        "  # Adding home_age and remodel_age\n",
        "  combined['home_age'] = combined['YrSold'] - combined['YearBuilt']\n",
        "  combined['remodel_age'] = combined['YrSold'] - combined['YearRemodAdd']\n",
        "  print(combined.columns)    "
      ],
      "execution_count": null,
      "outputs": []
    },
    {
      "cell_type": "markdown",
      "metadata": {
        "id": "Mgizid0fz6Ew"
      },
      "source": [
        "# Features Selection\n",
        "\n",
        "We tried three methods to select features\n",
        "\n",
        "1) PCA - we tried different n components but we didn't get good results. Also, the PCA features are no longer intuitive, human-readable features. As a result, we decided not to use PCA in this project.\n",
        "\n",
        "2) Lasso - it applies regularization to avoid learning very large weights by adding a penalty. It yields a sparse model with zero coefficients. This method reduces the 79 features to 37 features.\n",
        "\n",
        "3) Hand pick - This approach gives us the most flexibility. We can add, drop, or combine features based on EDA analysis.\n"
      ]
    },
    {
      "cell_type": "markdown",
      "metadata": {
        "id": "GraTkZV5Jf8y"
      },
      "source": [
        "### Convert categorical to numerical features\n",
        "\n",
        "Instead of one-hot encoding, we convert the categorical values to ordinal numerical values by the mean(SalePrice) on the feature's values. For example, if a value of feature has higher mean(SalePrice), we assign a lower value. We then apply StandardScaler to standardize the values. We compared MinMaxScaler and StandardScaler and found the StandardScaler yields better results. "
      ]
    },
    {
      "cell_type": "code",
      "metadata": {
        "id": "c-nPOpC3JObC"
      },
      "source": [
        "def convert_categorical_to_numeric_values(combined_df):\n",
        "  '''\n",
        "  Converts the categorical values in combined_df to ordinal numerical values.\n",
        "  It first groups by feature values to calculate the mean of SalePrice and then assign a rank to it;\n",
        "  then it uses StandardScaler to convert them to standard normal distribution with zero mean.\n",
        "  :param combined_df: contains features + SalPrice and train/test combined\n",
        "  :return: dataframe with all numeric values\n",
        "  Note: some code is based on Krish Naik's video (Naik 2020) \n",
        "  '''\n",
        "  categorical_features = [feature for feature in combined_df.columns if combined_df[feature].dtype == 'O']\n",
        "\n",
        "  # Example House Condition is a categorical value\n",
        "  # Example: House Condition has three values: excellent, average, poor\n",
        "  # let's say mean(SalePrice) group by excellent = 100,000\n",
        "  #   average - mean(SalePrice) group by average = 50,000\n",
        "  #   poor - mean(SalePrice) group by by poor = 30,000\n",
        "  # We then order them. In this case, we will assign excellent -> 1, average -> 2, poor -> 3\n",
        "  # Apply Scaler -> 1, 2, 3 to standardize to mean 0\n",
        "  for feature in categorical_features:\n",
        "    labels_ordered = combined_df.groupby([feature])['SalePrice'].mean().sort_values().index\n",
        "    labels_ordered = {k:i for i,k in enumerate(labels_ordered, 0)}\n",
        "    combined_df[feature] = combined_df[feature].map(labels_ordered)\n",
        "\n",
        "  # remove SalePrice\n",
        "  feature_scale=[feature for feature in combined_df.columns if feature not in ['SalePrice']]\n",
        "\n",
        "  # all categorical values will be standardized to standard normal distribution with zero mean\n",
        "  # convert categorical features to numerical numbers by ranking them based on the mean of SalePrice\n",
        "  # Use StandardScaler to standardize the value range and the mean is zero\n",
        "  scaler = StandardScaler() # Initialize StandardScaler object\n",
        "  combined_transformed = scaler.fit_transform(combined_df[feature_scale]) # Fit scaler on and transform the data\n",
        "  combined = pd.DataFrame(combined_transformed, columns=feature_scale) # Convert back into dataframe\n",
        "  return combined\n",
        "\n",
        "combined = convert_categorical_to_numeric_values(combined)"
      ],
      "execution_count": null,
      "outputs": []
    },
    {
      "cell_type": "markdown",
      "metadata": {
        "id": "WJISrM9CJdws"
      },
      "source": [
        "## Select features by PCA"
      ]
    },
    {
      "cell_type": "code",
      "metadata": {
        "id": "Wp6pGlOwJZcr"
      },
      "source": [
        "def select_feature_by_PCA(n, combined_df):\n",
        "  '''\n",
        "  It reduces the features in combined_df to n features using PCA.\n",
        "  :return: X_train, X_dev, y_train, y_dev, test_after_eda, all with only n features\n",
        "  '''\n",
        "  pca = PCA(n_components=n) # Initialize PCA object\n",
        "  pca_data = pca.fit_transform(combined_df) # Fit PCA object on and transform data\n",
        "  sum_explained_variance = np.sum(pca.explained_variance_ratio_) # Determine how much variance is captured by the principal components\n",
        "  print(f\"Explained variance: {sum_explained_variance}\")\n",
        "\n",
        "  # Let's print some stats:\n",
        "  print(f\"total features: {combined_df.shape[1]}\")\n",
        "  print(f\"# of selected features: {pca_data.shape[1]}\")\n",
        "\n",
        "  # Convert the data back into a dataframe.\n",
        "  pca_df = pd.DataFrame(pca_data)\n",
        "  #print(pca_df)\n",
        "\n",
        "  X = pca_df[:len(Y)] # Pull out just the training data\n",
        "  # Break the training data into training and dev sets, with 25% of records in the dev set\n",
        "  X_train_train, X_train_dev, y_train_train, y_train_dev = train_test_split(X, Y, random_state=77, test_size=0.25)\n",
        "  test_after_eda = pca_df[len(Y):] # Pull out just the test data\n",
        "\n",
        "  return X, X_train_train, X_train_dev, y_train_train, y_train_dev, test_after_eda # Return transformed data sets\n"
      ],
      "execution_count": null,
      "outputs": []
    },
    {
      "cell_type": "code",
      "metadata": {
        "id": "jAye_H8iqHQK"
      },
      "source": [
        "def PCA_test():\n",
        "  \"\"\"Function to determine the optimal number of principal components from PCA.\"\"\"\n",
        "\n",
        "  k_array = range(len(combined.columns)) # Initialize array up to number of columns\n",
        "  train = combined[:len(Y)] # Get training data\n",
        "  variance_array = [] # Initialize blank list for storing explained variances\n",
        "  for k in k_array: # For each number of principal components...\n",
        "      pca = PCA(n_components=k) # Initialize PCA object\n",
        "      pca.fit(train) # Fit the PCA object on the data\n",
        "      variance_frac = sum(pca.explained_variance_ratio_) # Calculate the total explained variance by the principal components\n",
        "      print(f\"k = {k}, fraction of total variance explained = {variance_frac}\") # Print it out\n",
        "      variance_array.append(variance_frac) # Append total explained variance to `variance_array`\n",
        "\n",
        "  # Generate plot of explained variance as a function of the number of principal components\n",
        "  plt.plot(k_array, variance_array) # Create plot\n",
        "  # Add title and x and y axis labels\n",
        "  plt.title(\"Fraction of total variance vs. number of principal components\")\n",
        "  plt.xlabel(\"Number of principal components\")\n",
        "  plt.ylabel(\"Fraction of total variance\")\n",
        "    \n",
        "#PCA_test()"
      ],
      "execution_count": null,
      "outputs": []
    },
    {
      "cell_type": "markdown",
      "metadata": {
        "id": "vpzce0XEJv8N"
      },
      "source": [
        "## Select features by lasso\n",
        "\n",
        "Lasso regression can be used for features selection. The idea of Lasso is to optimize the cost function by reducing the absolute values of coefficients. If the coefficient of a feature becomes zero, we can drop the feature. (Gianluca 2021, Naik 2020)"
      ]
    },
    {
      "cell_type": "code",
      "metadata": {
        "id": "pYORmY_hJueP"
      },
      "source": [
        "def select_feature_by_lasso(combined_df):\n",
        "  '''\n",
        "  It uses Lasso regression model to select the significant features.\n",
        "  The higher the alpha, the less features that will be selected.\n",
        "  :param combined_df: combined dataframe of Train and Test\n",
        "  :return: X_train, X_dev, y_train, y_dev, test_after_eda, all with only a subset of features\n",
        "  '''\n",
        "\n",
        "  train_after_eda = combined_df[:len(Y)] # Get just the training data\n",
        "  feature_sel_model = SelectFromModel(Lasso(alpha=0.001, random_state=0))  # Remember to set the seed, the random state in this function\n",
        "  feature_sel_model.fit(train_after_eda, Y) # Fit the SelectFromModel() object\n",
        "  # print(feature_sel_model.get_support())\n",
        "\n",
        "  # lasso uses L1 regularization which reduces some weights to zero, which means drop the columns\n",
        "  # get_support() contains True/False of each feature. We only select features with get_support() == True\n",
        "  selected_feat = train_after_eda.columns[(feature_sel_model.get_support())]\n",
        "\n",
        "  # Let's print some stats:\n",
        "  print(f\"total features: {train_after_eda.shape[1]}\")\n",
        "  print(f\"# of selected features: {len(selected_feat)}\")\n",
        "  print(f\"selected features: {selected_feat}\")\n",
        "\n",
        "  # Break the training data into training and dev sets, with 25% of records in the dev set\n",
        "  X_train_train, X_train_dev, y_train_train, y_train_dev = train_test_split(train_after_eda, Y, random_state=77, test_size=0.25)\n",
        "  test_after_eda = combined_df[len(Y):]  # Pull out just the test set\n",
        "\n",
        "  # Limit to just the columns left after Lasso\n",
        "  X_train_train = X_train_train[selected_feat]\n",
        "  X_train_dev = X_train_dev[selected_feat]\n",
        "  test_after_eda = test_after_eda[selected_feat]\n",
        "  X = train_after_eda[selected_feat]\n",
        "  \n",
        "  return X, X_train_train, X_train_dev, y_train_train, y_train_dev, test_after_eda"
      ],
      "execution_count": null,
      "outputs": []
    },
    {
      "cell_type": "markdown",
      "metadata": {
        "id": "gYnpdfEcQ7sr"
      },
      "source": [
        "## Select features by hand\n",
        "\n",
        "This function allow us to select the features by hand. It provides the flexibility for adding or removing features easily."
      ]
    },
    {
      "cell_type": "code",
      "metadata": {
        "id": "tLaeSGnkT_Z2"
      },
      "source": [
        "def select_feature_by_hand(combined_df):\n",
        "  '''\n",
        "  Select features manually.\n",
        "  '''\n",
        "\n",
        "  # Derive a new field by using FullBath and HalfBath\n",
        "  combined_df['total_bath'] = combined_df['FullBath'] + (0.5 * combined_df['HalfBath'])\n",
        "\n",
        "  # 'Condition1' - low variance but keeping it yields better accuracy\n",
        "  selected_features = ['MSSubClass', 'MSZoning', 'LotArea', 'LotConfig',\n",
        "                        'Neighborhood', 'Condition1', 'BldgType', 'HouseStyle', \n",
        "                        'OverallQual', 'OverallCond', 'RoofStyle', 'Exterior1st',\n",
        "                        'YearRemodAdd', 'BsmtFullBath', 'BsmtQual', 'TotalBsmtSF',\n",
        "                        '1stFlrSF', 'GrLivArea', 'total_bath',\n",
        "                        'KitchenQual', 'TotRmsAbvGrd', 'Functional', 'Fireplaces',\n",
        "                        'GarageType', 'GarageFinish', 'GarageCars', 'GarageCond',\n",
        "                        'PavedDrive', 'ScreenPorch', 'YrSold', 'SaleCondition']\n",
        "\n",
        "  train_after_eda = combined_df[:len(Y)] # Get just the training data\n",
        "\n",
        "  # Let's print some stats:\n",
        "  print(f\"total features: {train_after_eda.shape[1]}\")\n",
        "  print(f\"# of selected features: {len(selected_features)}\")\n",
        "  print(f\"selected features: {selected_features}\")\n",
        "\n",
        "  # Break the training data into training and dev sets, with 25% of records in the dev set\n",
        "  X_train_train, X_train_dev, y_train_train, y_train_dev = train_test_split(train_after_eda, Y, random_state=77, \n",
        "                                                                            test_size=0.25)\n",
        "  test_after_eda = combined_df[len(Y):] # Pull out just the test set\n",
        "\n",
        "  # Limit to just the manually selected columns\n",
        "  X_train_train = X_train_train[selected_features]\n",
        "  X_train_dev = X_train_dev[selected_features]\n",
        "  test_after_eda = test_after_eda[selected_features]\n",
        "  X = train_after_eda[selected_features]\n",
        "  \n",
        "  return X, X_train_train, X_train_dev, y_train_train, y_train_dev, test_after_eda"
      ],
      "execution_count": null,
      "outputs": []
    },
    {
      "cell_type": "markdown",
      "metadata": {
        "id": "1RH4uPlYREMx"
      },
      "source": [
        "## Remove outliers\n",
        "\n",
        "There are only two houses' SalePrice over 600K. Originally, we wanted to remove it but keeping it generates better results."
      ]
    },
    {
      "cell_type": "code",
      "metadata": {
        "id": "ykfPLRtbYW9T"
      },
      "source": [
        "# Removing outliers doesn't help.\n",
        "def remove_outliers(X, Y, X_train_train, X_train_dev, y_train_train, y_train_dev):\n",
        "  \"\"\"Function to remove outlying values.\"\"\"\n",
        "   \n",
        "  # There are four houses with significantly higher SalePrice.\n",
        "  # From the SalesPrice distribution, the cut off point is 600,000\n",
        "  print(X.shape)\n",
        "  log_600k = np.log(600000)\n",
        "  # Filter out the outliers from X and Y\n",
        "  X = X.drop(Y[Y > log_600k].index, axis=0)\n",
        "  Y = Y.drop(Y[Y > log_600k].index, axis=0)\n",
        "  X_train_train = X_train_train.drop(y_train_train[y_train_train > log_600k].index, axis=0)\n",
        "  y_train_train = y_train_train.drop(y_train_train[y_train_train > log_600k].index, axis=0)\n",
        "  X_train_dev = X_train_dev.drop(y_train_dev[y_train_dev > log_600k].index, axis=0)\n",
        "  y_train_dev = y_train_dev.drop(y_train_dev[y_train_dev > log_600k].index, axis=0)\n",
        "\n",
        "  return X, Y, X_train_train, X_train_dev, y_train_train, y_train_dev"
      ],
      "execution_count": null,
      "outputs": []
    },
    {
      "cell_type": "markdown",
      "metadata": {
        "id": "1RMkjiIYRK7l"
      },
      "source": [
        "## Select features and split the training dataset to train_train and train_dev\n",
        "\n",
        "We split the training dataset to train and dev and save the dev dataset for validation. "
      ]
    },
    {
      "cell_type": "code",
      "metadata": {
        "id": "GesxFxPIYbnX",
        "colab": {
          "base_uri": "https://localhost:8080/"
        },
        "outputId": "2fe77074-7882-45a0-faf9-dbe36ea15500"
      },
      "source": [
        "# X, X_train_train, X_train_dev, y_train_train, y_train_dev, test = select_feature_by_PCA(32, combined)\n",
        "#X, X_train_train, X_train_dev, y_train_train, y_train_dev, test = select_feature_by_lasso(combined)\n",
        "X, X_train_train, X_train_dev, y_train_train, y_train_dev, test = select_feature_by_hand(combined)\n",
        "\n",
        "# Removing outliers does't help. Do not call.\n",
        "# X, Y, X_train_train, X_train_dev, y_train_train, y_train_dev = remove_outliers(X, Y, X_train_train, X_train_dev, y_train_train, y_train_dev)\n",
        "\n",
        "print(f\"X             shape: {X.shape}\")\n",
        "print(f\"Y             shape: {Y.shape}\")\n",
        "print(f\"X_train_train shape: {X_train_train.shape}\")\n",
        "print(f\"y_train_train shape: {y_train_train.shape}\")\n",
        "print(f\"  X_train_dev shape: {X_train_dev.shape}\")\n",
        "print(f\"  y_train_dev shape: {y_train_dev.shape}\")\n",
        "print(f\"   test shape: {test.shape}\")\n",
        "print()"
      ],
      "execution_count": null,
      "outputs": [
        {
          "output_type": "stream",
          "text": [
            "total features: 68\n",
            "# of selected features: 31\n",
            "selected features: ['MSSubClass', 'MSZoning', 'LotArea', 'LotConfig', 'Neighborhood', 'Condition1', 'BldgType', 'HouseStyle', 'OverallQual', 'OverallCond', 'RoofStyle', 'Exterior1st', 'YearRemodAdd', 'BsmtFullBath', 'BsmtQual', 'TotalBsmtSF', '1stFlrSF', 'GrLivArea', 'total_bath', 'KitchenQual', 'TotRmsAbvGrd', 'Functional', 'Fireplaces', 'GarageType', 'GarageFinish', 'GarageCars', 'GarageCond', 'PavedDrive', 'ScreenPorch', 'YrSold', 'SaleCondition']\n",
            "X             shape: (1460, 31)\n",
            "Y             shape: (1460,)\n",
            "X_train_train shape: (1095, 31)\n",
            "y_train_train shape: (1095,)\n",
            "  X_train_dev shape: (365, 31)\n",
            "  y_train_dev shape: (365,)\n",
            "   test shape: (1459, 31)\n",
            "\n"
          ],
          "name": "stdout"
        }
      ]
    },
    {
      "cell_type": "markdown",
      "metadata": {
        "id": "GXCvcuZD8ZRB"
      },
      "source": [
        "## Data sanity check\n",
        "\n",
        "Check if Test and Train datasets have the same number of features. We originally split Train dataset to dev/train but we decided to use KFolds which utilizes the entire Train dataset."
      ]
    },
    {
      "cell_type": "code",
      "metadata": {
        "id": "sqKaoXUTKBvT"
      },
      "source": [
        "# Sanity check - the # of NaN columns X_train and X_dev dataset match\n",
        "matched_train_dev = all(\n",
        "    X_train_train[X_train_train.columns[~X_train_train.isnull().any()]].columns == X_train_dev[X_train_dev.columns[~X_train_dev.isnull().any()]].columns\n",
        "    )\n",
        "if matched_train_dev == False:\n",
        "    print(\"X_train_train's columns and X_train_dev's columns don't match\")\n",
        "\n",
        "# Sanity check - the # of NaN columns test and train dataset match\n",
        "matched_train_test = all(\n",
        "    X_train_train[X_train_train.columns[~X_train_train.isnull().any()]].columns == test[test.columns[~test.isnull().any()]].columns\n",
        "    )\n",
        "if matched_train_test == False:\n",
        "    print(\"X_train_train's columns and test's columns don't match\")\n"
      ],
      "execution_count": null,
      "outputs": []
    },
    {
      "cell_type": "markdown",
      "metadata": {
        "id": "rC0HaqkxVefB"
      },
      "source": [
        "# Combine Model Predictions into Ensemble\n"
      ]
    },
    {
      "cell_type": "markdown",
      "metadata": {
        "id": "zFrCTQjuSq4z"
      },
      "source": [
        "## Create K-fold cross validation"
      ]
    },
    {
      "cell_type": "code",
      "metadata": {
        "id": "hSReSkVTTPeC"
      },
      "source": [
        "# Use KFold cross-validation to train the model\n",
        "kfolds = KFold(n_splits=10, shuffle=True, random_state=42) # Create KFold() object with 10 splits\n",
        "\n",
        "def cv_rmse(model, x_data, y_data):\n",
        "  '''\n",
        "  Calculate the cross validation score of the model, given X.\n",
        "  The cross validation method is kfolds\n",
        "  :param model: passed in model\n",
        "  :param X: training dataset\n",
        "  :return:\n",
        "  '''\n",
        "  rmse = np.sqrt(-cross_val_score(model, x_data, y_data, scoring=\"neg_mean_squared_error\", cv=kfolds))\n",
        "  return (rmse)\n",
        "\n",
        "\n",
        "# Some parameters for tuning:\n",
        "alphas_ridge = [14.5, 14.6, 14.7, 14.8, 14.9, 15, 15.1, 15.2, 15.3, 15.4, 15.5] # Used for RidgeCV\n",
        "alphas_lasso = [5e-05, 0.0001, 0.0002, 0.0003, 0.0004, 0.0005, 0.0006, 0.0007, 0.0008] # Used for LassoCV\n",
        "alphas_enet = [0.0001, 0.0002, 0.0003, 0.0004, 0.0005, 0.0006, 0.0007] # Used for ElasticNetCV\n",
        "l1ratios_enet = [0.8, 0.85, 0.9, 0.95, 0.99, 1] # Used for ElasticNetCV"
      ],
      "execution_count": null,
      "outputs": []
    },
    {
      "cell_type": "markdown",
      "metadata": {
        "id": "Ki-XetuGSn9F"
      },
      "source": [
        "## Create neural network\n",
        "\n",
        "We created a neural network with 3 hidden layers and 256 nodes"
      ]
    },
    {
      "cell_type": "code",
      "metadata": {
        "id": "GLp2rprRxNXL"
      },
      "source": [
        "# Create Neural Network\n",
        "# Some of the following code is based on \"House Prices Advanced Regression Techniques\", Nanashi (2019)\n",
        "def create_neural_network(num_features):\n",
        "  \"\"\"Function to create a neural network with an input layer, 3 hidden layers, and an output layer.\"\"\"\n",
        "\n",
        "  NN_model = Sequential() # Create NN object\n",
        "\n",
        "  # Add the input layer with 128 units (i.e., dimensionality of output space from layer)\n",
        "  NN_model.add(Dense(128, kernel_initializer='normal', input_dim=num_features, activation='relu'))\n",
        "\n",
        "  # Add the hidden layers, each with 256 units\n",
        "#   NN_model.add(Dense(256, kernel_initializer='normal', activation='relu'))\n",
        "#   NN_model.add(Dense(256, kernel_initializer='normal', activation='relu'))\n",
        "#   NN_model.add(Dense(256, kernel_initializer='normal', activation='relu'))\n",
        "\n",
        "  NN_model.add(Dense(256, kernel_initializer='normal', activation='relu'))\n",
        "  NN_model.add(Dense(128, kernel_initializer='normal', activation='relu'))\n",
        "  NN_model.add(Dense(64, kernel_initializer='normal', activation='relu'))\n",
        "\n",
        "  # Add the output layer with 1 unit\n",
        "  NN_model.add(Dense(1, kernel_initializer='normal', activation='linear'))\n",
        "\n",
        "  # Compile the network\n",
        "  NN_model.compile(loss='mean_absolute_error', optimizer='adam', metrics=['mean_squared_error'])\n",
        "  # NN_model.summary()\n",
        "\n",
        "  return NN_model\n",
        "\n",
        "def cv_rmse_nn(nn, x_data, y_data):\n",
        "  '''\n",
        "  This function calculates the RMSE of neural network. Neural network is not part of\n",
        "  sklearn package. We must iterate kfolds to measure the performance\n",
        "  '''\n",
        "  cvscores = []\n",
        "  for some_train, some_test in kfolds.split(x_data, y_data): # Iterate through splits\n",
        "      nn.fit(x_data.iloc[some_train, :], y_data.iloc[some_train], epochs=50, batch_size=32, verbose=0) # Fit the NN model\n",
        "      scores = nn.evaluate(x_data.iloc[some_test, :], y_data.iloc[some_test], verbose=0) # Get model score\n",
        "      cvscores.append(scores[1]) # Append CV score to cvscores\n",
        "\n",
        "  print(\"NN: {:.4f} ({:.4f})\\n\".format(np.sqrt(np.mean(cvscores)), np.sqrt(np.std(cvscores))), datetime.now(), )"
      ],
      "execution_count": null,
      "outputs": []
    },
    {
      "cell_type": "markdown",
      "metadata": {
        "id": "VMxZtC3fSutd"
      },
      "source": [
        "## Create the ensemble model\n",
        "\n",
        "This class creates an ensemble model which consists of the following models:\n",
        "ridge, lasso, elasticnet, svr, gbr, lightgbm, xgboost, random forest, and neural network. We tried to add K-Nearest Neighbor Regression but it results in poorer accuracy.\n",
        "\n",
        "\n",
        "*   Ridge - This model solves a regression model where the loss function is the linear least squares function and regularization is given by the L2-norm. \n",
        "*   Lasso - Linear Model trained with L1 prior as regularizer\n",
        "*   Elasticnet - Linear regression with combined L1 and L2 priors as regularizer.\n",
        "*   SVR - Epsilon-Support Vector Regression\n",
        "*   GBR - Gradient Boosting for regression. GB builds an additive model in a forward stage-wise fashion; it allows for the optimization of arbitrary differentiable loss functions. In each stage a regression tree is fit on the negative gradient of the given loss function.\n",
        "*   Lightgbm - a gradient boosting framework that uses tree based learning algorithms.\n",
        "*   Xgboost - an optimized gradient boosting library \n",
        "*   Random Forest - a random regression forest is an ensemble of randomized regression trees\n",
        "*   K-Nearest Neighbor Regression - approximates the association between independent variables and the continuous outcome by averaging the observations in the same neighbourhood.\n",
        "*   Neural Network\n",
        "\n",
        "We then use Stacking, an ensemble learning technique, to combine some of the above regression models via a meta-regressor. Finally, the prediction is based on weighted average of the above models and stacking models. \n",
        "\n",
        "\n",
        "We set some of the initial parameters and hyperparameters by referencing this article: House Prices: Advanced Regression Techniques (Nanshai 2019)."
      ]
    },
    {
      "cell_type": "code",
      "metadata": {
        "id": "EZLESSRHXa78"
      },
      "source": [
        "class EnsembleModel():\n",
        "  '''\n",
        "  This class creates an ensemble model which consists of the following models:\n",
        "  ridge, lasso, elasticnet, svr, gbr, lightgbm, xgboost, random forest, and neural network.\n",
        "  - create_several_models() instantiates the models with kfolds cross-validation\n",
        "  - calculate_cross_validation_rmse() - calculates RMSE based on cross-validation\n",
        "  - fit() - fit the model with X and Y\n",
        "  - predict() - use the model to predict Y\n",
        "  - generate_submission_csv() - generate a file for kaggle submission\n",
        "  - save_models_to_file() - saves the models to the file system\n",
        "  - load_models_from_file() - loads the model from the file system\n",
        "  '''\n",
        "\n",
        "  def create_several_models(self, x_data): # x_data is needed for neural network only\n",
        "      '''\n",
        "      It creates the following models: ridge, lasso, elasticnet, svr, gbr, lightgbm, \n",
        "      xgboost, random forest, and neural network.\n",
        "      :param x_data: it is used by NN network only. It needs the # of features for the input layer \n",
        "      :return: None\n",
        "      '''\n",
        "      self.ridge = make_pipeline(RobustScaler(), RidgeCV(alphas=alphas_ridge, cv=kfolds)) # Create RidgeCV() object\n",
        "      self.lasso = make_pipeline(RobustScaler(), LassoCV(max_iter=1e7, alphas=alphas_lasso, random_state=42, cv=kfolds)) # Create LassoCV() object\n",
        "      self.elasticnet = make_pipeline(RobustScaler(), ElasticNetCV(max_iter=1e7, alphas=alphas_enet, cv=kfolds, l1_ratio=l1ratios_enet, random_state=42)) # Create ElasticNetCV() object\n",
        "      self.svr = make_pipeline(RobustScaler(), SVR(C=20, epsilon=0.008, gamma=0.0003)) # Create SVR() object\n",
        "      self.gbr = GradientBoostingRegressor(n_estimators=3000, learning_rate=0.05, max_depth=4, max_features='sqrt', min_samples_leaf=15,\n",
        "                                            min_samples_split=10, loss='huber', random_state=42) # Create GradientBoostingRegressor() object\n",
        "      self.lightgbm = LGBMRegressor(num_leaves=4,\n",
        "                                learning_rate=0.01,\n",
        "                                n_estimators=5000,\n",
        "                                max_bin=200,\n",
        "                                bagging_fraction=0.75,\n",
        "                                bagging_freq=5,\n",
        "                                bagging_seed=7,\n",
        "                                feature_fraction=0.2,\n",
        "                                feature_fraction_seed=7,\n",
        "                                verbose=-1,\n",
        "                                random_state=77\n",
        "                                ) # Create LGBMRegressor() object\n",
        "      self.xgboost = XGBRegressor(learning_rate=0.01, n_estimators=3460,\n",
        "                              max_depth=3, min_child_weight=0,\n",
        "                              gamma=0, subsample=0.7,\n",
        "                              colsample_bytree=0.7,\n",
        "                              objective=\"reg:squarederror\", nthread=-1,\n",
        "                              scale_pos_weight=1, seed=27,\n",
        "                              random_state=77,\n",
        "                              reg_alpha=0.00006) # Create XGBRegressor() object\n",
        "      self.rfr = RandomForestRegressor(random_state=77) # Create RandomForestRegressor() object\n",
        "      self.nn = create_neural_network(x_data.shape[1]) # Create neural network\n",
        "      self.knn = KNeighborsRegressor(n_neighbors=10) # Create KNEighborsRegressor() object\n",
        "\n",
        "      # Create model object that stacks individual models and evaluates using CV\n",
        "      self.stack_gen = StackingCVRegressor(\n",
        "        regressors=(self.rfr, self.ridge, self.lasso, self.elasticnet,\n",
        "                    self.gbr, self.xgboost, self.lightgbm),\n",
        "        meta_regressor=self.xgboost,\n",
        "        use_features_in_secondary=True)\n",
        "\n",
        "  def calculate_cross_validation_rmse(self, x_data, y_data):\n",
        "    '''\n",
        "    It uses K-fold cross-validation to split the x_data & y_data to calculate the RMSE\n",
        "    :param x_data: X data\n",
        "    :param y_data: Y data\n",
        "    :return: None\n",
        "    '''\n",
        "\n",
        "    # Get and print scores for each individual model\n",
        "    score = cv_rmse(self.rfr, x_data, y_data)\n",
        "    print(\"RandomForest: {:.4f} ({:.4f})\\n\".format(score.mean(), score.std()), datetime.now(), )\n",
        "\n",
        "    cv_rmse_nn(self.nn, x_data, y_data)  # calculate the root mean squared error of neural network using KFold\n",
        "\n",
        "    #score = cv_rmse(self.knn, x_data, y_data)\n",
        "    #print(\"KNN: {:.4f} ({:.4f})\\n\".format(score.mean(), score.std()), datetime.now(), )\n",
        "\n",
        "\n",
        "    score = cv_rmse(self.ridge, x_data, y_data)\n",
        "    print(\"Ridge: {:.4f} ({:.4f})\\n\".format(score.mean(), score.std()), datetime.now(), )\n",
        "\n",
        "    score = cv_rmse(self.lasso, x_data, y_data)\n",
        "    print(\"LASSO: {:.4f} ({:.4f})\\n\".format(score.mean(), score.std()), datetime.now(), )\n",
        "\n",
        "    score = cv_rmse(self.elasticnet, x_data, y_data)\n",
        "    print(\"elastic net: {:.4f} ({:.4f})\\n\".format(score.mean(), score.std()), datetime.now(), )\n",
        "\n",
        "    score = cv_rmse(self.svr, x_data, y_data)\n",
        "    print(\"SVR: {:.4f} ({:.4f})\\n\".format(score.mean(), score.std()), datetime.now(), )\n",
        "\n",
        "    score = cv_rmse(self.lightgbm, x_data, y_data)\n",
        "    print(\"lightgbm: {:.4f} ({:.4f})\\n\".format(score.mean(), score.std()), datetime.now(), )\n",
        "\n",
        "    score = cv_rmse(self.gbr, x_data, y_data)\n",
        "    print(\"gbr: {:.4f} ({:.4f})\\n\".format(score.mean(), score.std()), datetime.now(), )\n",
        "\n",
        "    score = cv_rmse(self.xgboost, x_data, y_data)\n",
        "    print(\"xgboost: {:.4f} ({:.4f})\\n\".format(score.mean(), score.std()), datetime.now(), )\n",
        "\n",
        "  def fit(self, x_data, y_data):\n",
        "    '''\n",
        "    Fit the model with data\n",
        "    :param x_data: x data\n",
        "    :param y_data: y data\n",
        "    :return: None\n",
        "    '''\n",
        "\n",
        "    # Fit each of the models to the data\n",
        "    print('fitting stack_gen')\n",
        "    self.stack_gen_model_fitted = self.stack_gen.fit(np.array(x_data), np.array(y_data))\n",
        "\n",
        "    print(\"fitting random_forest\")\n",
        "    self.rfr_model_full_data_fitted = self.rfr.fit(x_data, y_data)\n",
        "\n",
        "    #print(\"fitting KNN\")\n",
        "    #self.knn_model_full_data_fitted = self.knn.fit(x_data, y_data)\n",
        "\n",
        "    print('fitting elasticnet')\n",
        "    self.elastic_model_full_data_fitted = self.elasticnet.fit(x_data, y_data)\n",
        "\n",
        "    print(\"fitting neural network\")\n",
        "    self.nn.fit(x_data, y_data, epochs=50, batch_size=32, verbose=0)\n",
        "\n",
        "    print('fitting lasso')\n",
        "    self.lasso_model_full_data_fitted = self.lasso.fit(x_data, y_data)\n",
        "\n",
        "    print('fitting ridge')\n",
        "    self.ridge_model_full_data_fitted = self.ridge.fit(x_data, y_data)\n",
        "\n",
        "    print('fitting SVR')\n",
        "    self.svr_model_full_data_fitted = self.svr.fit(x_data, y_data)\n",
        "\n",
        "    print('fitting gradient boosting')\n",
        "    self.gbr_model_full_data_fitted = self.gbr.fit(x_data, y_data)\n",
        "\n",
        "    print('fitting xgboost')\n",
        "    self.xgb_model_full_data_fitted = self.xgboost.fit(x_data, y_data)\n",
        "\n",
        "    print('fitting lightgbm')\n",
        "    self.lgb_model_full_data_fitted = self.lightgbm.fit(x_data, y_data)\n",
        "\n",
        "\n",
        "  def predict(self, x_data):\n",
        "    '''\n",
        "    Use the model to predict y based on x_data\n",
        "    :param x_data: X\n",
        "    :return: an np array predicted Y \n",
        "    '''\n",
        "\n",
        "    # Get predictions from each model, as well as the stacked model,\n",
        "    # and apply custom weights to each of the models to generate a\n",
        "    # weighted average predicted log(SalePrice) for each home.\n",
        "    return ((0.05 * self.elastic_model_full_data_fitted.predict(x_data)) +\n",
        "            (0.05 * self.rfr_model_full_data_fitted.predict(x_data)) +\n",
        "            (0.05 * self.nn.predict(x_data).flatten()) +\n",
        "            (0.05 * self.lasso_model_full_data_fitted.predict(x_data)) +\n",
        "            (0.05 * self.ridge_model_full_data_fitted.predict(x_data)) +\n",
        "            (0.1 * self.svr_model_full_data_fitted.predict(x_data)) +\n",
        "            (0.1 * self.gbr_model_full_data_fitted.predict(x_data)) +\n",
        "            (0.15 * self.xgb_model_full_data_fitted.predict(x_data)) +\n",
        "            (0.1 * self.lgb_model_full_data_fitted.predict(x_data)) +\n",
        "            (0.3 * self.stack_gen_model_fitted.predict(np.array(x_data))))\n",
        "\n",
        "    # return ((0.05 * self.elastic_model_full_data_fitted.predict(x_data)) +\n",
        "    #         (0.05 * self.rfr_model_full_data_fitted.predict(x_data)) +\n",
        "    #         (0.05 * self.nn.predict(x_data).flatten()) +\n",
        "    #         (0.05 * self.lasso_model_full_data_fitted.predict(x_data)) +\n",
        "    #         (0.05 * self.ridge_model_full_data_fitted.predict(x_data)) +\n",
        "    #         (0.1 * self.svr_model_full_data_fitted.predict(x_data)) +\n",
        "    #         (0.1 * self.gbr_model_full_data_fitted.predict(x_data)) +\n",
        "    #         (0.2 * self.xgb_model_full_data_fitted.predict(x_data)) +\n",
        "    #         (0.1 * self.lgb_model_full_data_fitted.predict(x_data)) +\n",
        "    #         (0.25 * self.stack_gen_model_fitted.predict(np.array(x_data))))\n",
        "\n",
        "\n",
        "  def generate_submission_csv(self, test_data):\n",
        "    '''\n",
        "    generate a CSV file called submission.csv for kaggle submission. \n",
        "    :param test_data: \n",
        "    :return: None\n",
        "    '''\n",
        "    y_test_in_logarithm = self.predict(test_data) # Predict house prices for test data\n",
        "    y_test = np.exp(y_test_in_logarithm) # Reverse logarithm for submission\n",
        "    # print(y_test)\n",
        "    # print(y_test.shape)\n",
        "    my_submission = pd.DataFrame({'Id': test_id, 'SalePrice': y_test})\n",
        "    # The model tends to underestimate the price. Adjust it by 1% to offset it.\n",
        "    my_submission['SalePrice'] = my_submission['SalePrice'] * 1.01\n",
        "    my_submission.to_csv(\"submission.csv\", index=False) # Save csv\n",
        "    print(\"Submission CSV is generated.\")\n",
        "\n",
        "  def save_models_to_file(self):\n",
        "    '''\n",
        "    Save models to the file system to save time on fitting\n",
        "    :return: None\n",
        "    '''\n",
        "    pickle.dump(self.stack_gen_model_fitted, open('stack_gen_model_fitted.sav', 'wb'))\n",
        "    pickle.dump(self.rfr_model_full_data_fitted, open('rfr_model_full_data_fitted.sav', 'wb'))\n",
        "    pickle.dump(self.elastic_model_full_data_fitted, open('elastic_model_full_data_fitted.sav', 'wb'))\n",
        "    pickle.dump(self.nn, open('nn_model_full_data_fitted.sav', 'wb'))\n",
        "    pickle.dump(self.lasso_model_full_data_fitted, open('lasso_model_full_data_fitted.sav', 'wb'))\n",
        "    pickle.dump(self.ridge_model_full_data_fitted, open('ridge_model_full_data_fitted.sav', 'wb'))\n",
        "    pickle.dump(self.svr_model_full_data_fitted, open('svr_model_full_data_fitted.sav', 'wb'))\n",
        "    pickle.dump(self.gbr_model_full_data_fitted, open('gbr_model_full_data_fitted.sav', 'wb'))\n",
        "    pickle.dump(self.xgb_model_full_data_fitted, open('xgb_model_full_data_fitted.sav', 'wb'))\n",
        "    pickle.dump(self.lgb_model_full_data_fitted, open('lgb_model_full_data_fitted.sav', 'wb'))\n",
        "    print('all models saved')\n",
        "\n",
        "  def load_models_from_file(self):\n",
        "    '''\n",
        "    Load saved models from the file system.\n",
        "    :return:\n",
        "    '''\n",
        "    self.stack_gen_model_fitted = pickle.load(open('stack_gen_model_fitted.sav', 'rb'))\n",
        "    self.rfr_model_full_data_fitted = pickle.load(open('lgb_model_full_data_fitted.sav', 'rb'))\n",
        "    self.nn = pickle.load(open('nn_model_full_data_fitted.sav', 'rb'))\n",
        "    self.elastic_model_full_data_fitted = pickle.load(open('elastic_model_full_data_fitted.sav', 'rb'))\n",
        "    self.lasso_model_full_data_fitted = pickle.load(open('lasso_model_full_data_fitted.sav', 'rb'))\n",
        "    self.ridge_model_full_data_fitted = pickle.load(open('ridge_model_full_data_fitted.sav', 'rb'))\n",
        "    self.svr_model_full_data_fitted = pickle.load(open('svr_model_full_data_fitted.sav', 'rb'))\n",
        "    self.gbr_model_full_data_fitted = pickle.load(open('gbr_model_full_data_fitted.sav', 'rb'))\n",
        "    self.xgb_model_full_data_fitted = pickle.load(open('xgb_model_full_data_fitted.sav', 'rb'))\n",
        "    self.lgb_model_full_data_fitted = pickle.load(open('lgb_model_full_data_fitted.sav', 'rb'))\n",
        "    print('all models loaded')\n",
        "\n"
      ],
      "execution_count": null,
      "outputs": []
    },
    {
      "cell_type": "markdown",
      "metadata": {
        "id": "oRdS1GoaJSI_"
      },
      "source": [
        "## Predict by ensemble models\n",
        "\n",
        "Kaggle calculates the score using RMSLE (root mean square log error). Our best result is 0.12221 and the rank is 1670."
      ]
    },
    {
      "cell_type": "markdown",
      "metadata": {
        "id": "1E5dovvQZVAd"
      },
      "source": [
        "![best kaggle results.png](data:image/png;base64,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)"
      ]
    },
    {
      "cell_type": "code",
      "metadata": {
        "colab": {
          "base_uri": "https://localhost:8080/"
        },
        "id": "-u8mmPKtZYD5",
        "outputId": "a3c78d16-bd78-4f90-bdd4-7397d8120add"
      },
      "source": [
        "def create_model_by_full_train_data():\n",
        "  ''' This function creates the ensemble model with full train data \n",
        "  '''\n",
        "  print(\"Create the ensemble model with the entire train data\")\n",
        "  print(f\"Creation start time: {datetime.now()}\")\n",
        "  # X is 1460\n",
        "  model = EnsembleModel() # Instantiate EnsembleModel() object\n",
        "  model.create_several_models(X) # Create several models\n",
        "  model.calculate_cross_validation_rmse(X, Y) # Evaluate using CV\n",
        "  model.fit(X, Y) # Fit model\n",
        "  y_pred = model.predict(X) # Generate predictions\n",
        "  print('RMSLE score on train data:')\n",
        "  print(mean_squared_error(Y, y_pred, squared=False)) # Calculate RMSE on training data (should be very low!)\n",
        "\n",
        "  # generate submission file\n",
        "  model.generate_submission_csv(test)\n",
        "  print(f\"Creation end time: {datetime.now()}\")\n",
        " \n",
        "\n",
        "def create_model_by_subset_train_data():\n",
        "  ''' this function creates the ensemble model with train/dev data split\n",
        "  '''\n",
        "  print(\"Create the ensemble model with train/dev data split\")\n",
        "  print(f\"Creation start time: {datetime.now()}\")\n",
        "  model = EnsembleModel() # Instantiate EnsembleModel() object\n",
        "  model.create_several_models(X_train_train) # Create several models\n",
        "  model.calculate_cross_validation_rmse(X_train_train, y_train_train) # Evaluate using CV\n",
        "  model.fit(X_train_train, y_train_train) # Fit model\n",
        "  # Use dev data to predict and calculate the RMSLE score\n",
        "  y_pred = model.predict(X_train_dev)\n",
        "  print('RMSLE score on train DEV data:')\n",
        "  print(mean_squared_error(y_train_dev, y_pred, squared=False)) # Calculate RMSE on dev data\n",
        "\n",
        "  # Generate submission file\n",
        "  model.generate_submission_csv(test)\n",
        "  print(f\"Creation end time: {datetime.now()}\")\n",
        "\n",
        "create_model_by_full_train_data() #1460 observations\n",
        "print()\n",
        "print()\n",
        "create_model_by_subset_train_data() #1095 observations\n"
      ],
      "execution_count": null,
      "outputs": [
        {
          "output_type": "stream",
          "text": [
            "Create the ensemble model with the entire train data\n",
            "Creation start time: 2021-08-02 03:32:29.351606\n",
            "RandomForest: 0.1394 (0.0228)\n",
            " 2021-08-02 03:32:40.603463\n",
            "NN: 0.2050 (0.1998)\n",
            " 2021-08-02 03:33:28.785177\n",
            "Ridge: 0.1353 (0.0298)\n",
            " 2021-08-02 03:33:33.281778\n",
            "LASSO: 0.1356 (0.0299)\n",
            " 2021-08-02 03:33:34.373245\n",
            "elastic net: 0.1356 (0.0299)\n",
            " 2021-08-02 03:33:37.413981\n",
            "SVR: 0.1310 (0.0332)\n",
            " 2021-08-02 03:33:40.038478\n",
            "lightgbm: 0.1219 (0.0185)\n",
            " 2021-08-02 03:33:49.796949\n",
            "gbr: 0.1236 (0.0182)\n",
            " 2021-08-02 03:35:26.133190\n",
            "xgboost: 0.1157 (0.0171)\n",
            " 2021-08-02 03:36:04.551664\n",
            "fitting stack_gen\n",
            "fitting random_forest\n",
            "fitting elasticnet\n",
            "fitting neural network\n",
            "fitting lasso\n",
            "fitting ridge\n",
            "fitting SVR\n",
            "fitting gradient boosting\n",
            "fitting xgboost\n",
            "fitting lightgbm\n",
            "RMSLE score on train data:\n",
            "0.07056734668780665\n",
            "Submission CSV is generated.\n",
            "Creation end time: 2021-08-02 03:38:08.645551\n",
            "\n",
            "\n",
            "Create the ensemble model with train/dev data split\n",
            "Creation start time: 2021-08-02 03:38:08.672486\n",
            "RandomForest: 0.1418 (0.0207)\n",
            " 2021-08-02 03:38:17.059121\n",
            "NN: 0.2077 (0.2511)\n",
            " 2021-08-02 03:38:50.936315\n",
            "Ridge: 0.1409 (0.0460)\n",
            " 2021-08-02 03:38:54.600846\n",
            "LASSO: 0.1415 (0.0469)\n",
            " 2021-08-02 03:38:55.517087\n",
            "elastic net: 0.1415 (0.0468)\n",
            " 2021-08-02 03:38:58.110624\n",
            "SVR: 0.1347 (0.0491)\n",
            " 2021-08-02 03:38:59.666502\n",
            "lightgbm: 0.1283 (0.0214)\n",
            " 2021-08-02 03:39:08.977505\n",
            "gbr: 0.1285 (0.0222)\n",
            " 2021-08-02 03:40:34.414358\n",
            "xgboost: 0.1270 (0.0242)\n",
            " 2021-08-02 03:41:04.715320\n",
            "fitting stack_gen\n",
            "fitting random_forest\n",
            "fitting elasticnet\n",
            "fitting neural network\n",
            "fitting lasso\n",
            "fitting ridge\n",
            "fitting SVR\n",
            "fitting gradient boosting\n",
            "fitting xgboost\n",
            "fitting lightgbm\n",
            "RMSLE score on train DEV data:\n",
            "0.11299595488263213\n",
            "Submission CSV is generated.\n",
            "Creation end time: 2021-08-02 03:42:50.724600\n"
          ],
          "name": "stdout"
        }
      ]
    },
    {
      "cell_type": "markdown",
      "metadata": {
        "id": "lh8R4PtsbLn-"
      },
      "source": [
        "# Reference\n",
        "\n",
        "\n",
        "\n",
        "* AL-Ma'amari, Mohammaed (2018). Deep Neural Networks for Regression Problems. Captured from https://towardsdatascience.com/deep-neural-networks-for-regression-problems-81321897ca33\n",
        "* Zaman, Muhammad Imran (2021). House Prices: Detailed EDA and Cross Validation. Captured from https://www.kaggle.com/imranzaman5202/house-prices-detailed-eda-and-cross-validation\n",
        "* Saxena, Sharoon (2019). What's the Difference Between RMSE and RMSLE. Captured from https://medium.com/analytics-vidhya/root-mean-square-log-error-rmse-vs-rmlse-935c6cc1802a\n",
        "* Naik, Krish (2020). Advance House Price Prediction-Feature Engineering Part 2. Captured from https://youtu.be/0fT-bqvHD2w \n",
        "* Naik, Krish (2020). Advanced Housing Prices - Feature Engineering. Captured from https://github.com/krishnaik06/Advanced-House-Price-Prediction-/blob/master/Feature%20Engineering.ipynb\n",
        "* Lafuente, Albert Sanchez (2020). Exploratory Data Analysis with Pandas Profiling. Captured from https://towardsdatascience.com/exploratory-data-analysis-with-pandas-profiling-de3aae2ddff3\n",
        "* Markham, Kevin (2018). How do I select features for Machine Learning. Captured from https://www.youtube.com/watch?v=YaKMeAlHgqQ&ab_channel=DataSchool\n",
        "* Patel, Vishal (2017). Feature Reduction Techniques. Captured from https://www.slideshare.net/VishalPatel321/feature-reduction-techniques\n",
        "* Nanashi (2019). House Prices Advanced Regression Techniques. Captured from https://www.kaggle.com/jesucristo/1-house-prices-solution-top-1\n",
        "* Shivani, Rana (2021) House Price Prediction - Advanced Regression Techniques. Captured from https://www.kaggle.com/shivanirana63/advanced-reg-techniques-eda-feature-eng#3.Model-Building-&-Evaluation\n",
        "* Anonymous (2021). Prediction using ColumnTransformer, OneHotEncoder and Pipeline. Captured from https://www.geeksforgeeks.org/prediction-using-columntransformer-onehotencoder-and-pipeline/\n",
        "* Malato, Gianluca (2020). Feature selection in machine learning using Lasso regression. Captured from: https://towardsdatascience.com/feature-selection-in-machine-learning-using-lasso-regression-7809c7c2771a\n"
      ]
    }
  ]
}